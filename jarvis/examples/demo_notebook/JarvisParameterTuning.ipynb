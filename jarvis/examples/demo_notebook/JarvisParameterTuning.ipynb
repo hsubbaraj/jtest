{
 "cells": [
  {
   "cell_type": "code",
   "execution_count": null,
   "metadata": {},
   "outputs": [],
   "source": [
    "import jarvis\n",
    "\n",
    "jarvis.setNotebookName('JarvisParameterTuning.ipynb')\n",
    "\n",
    "ex = jarvis.Experiment('JarvisParameterTuning.ipynb')\n",
    "\n",
    "ex.groundClient('git')"
   ]
  },
  {
   "cell_type": "code",
   "execution_count": null,
   "metadata": {},
   "outputs": [],
   "source": [
    "import sklearn.linear_model as linear_model\n",
    "import sklearn\n",
    "import seaborn as sns\n",
    "import pandas as pd\n",
    "import numpy as np"
   ]
  },
  {
   "cell_type": "markdown",
   "metadata": {},
   "source": [
    "# Data Loading\n",
    "\n",
    "Here I am using built-in data to make a quick example.  In practice I would probably want to download the data from some external source"
   ]
  },
  {
   "cell_type": "code",
   "execution_count": null,
   "metadata": {},
   "outputs": [],
   "source": [
    "@jarvis.func\n",
    "def crawl():\n",
    "    return sns.load_dataset('titanic')\n",
    "\n",
    "doCrawl = ex.action(crawl)\n",
    "titanic_data = ex.artifact('titanic.pkl', doCrawl) "
   ]
  },
  {
   "cell_type": "code",
   "execution_count": null,
   "metadata": {},
   "outputs": [],
   "source": [
    "titanic_data.peek()"
   ]
  },
  {
   "cell_type": "markdown",
   "metadata": {},
   "source": [
    "# Data Processing\n",
    "\n",
    "I need to extract some binary features"
   ]
  },
  {
   "cell_type": "code",
   "execution_count": 5,
   "metadata": {},
   "outputs": [
    {
     "ename": "AttributeError",
     "evalue": "module 'jarvis' has no attribute 'Action'",
     "output_type": "error",
     "traceback": [
      "\u001b[0;31m---------------------------------------------------------------------------\u001b[0m",
      "\u001b[0;31mAttributeError\u001b[0m                            Traceback (most recent call last)",
      "\u001b[0;32m<ipython-input-5-6e78d44bc982>\u001b[0m in \u001b[0;36m<module>\u001b[0;34m()\u001b[0m\n\u001b[1;32m      3\u001b[0m     \u001b[0;32mreturn\u001b[0m \u001b[0mpd\u001b[0m\u001b[0;34m.\u001b[0m\u001b[0mget_dummies\u001b[0m\u001b[0;34m(\u001b[0m\u001b[0mdf\u001b[0m\u001b[0;34m)\u001b[0m\u001b[0;34m\u001b[0m\u001b[0m\n\u001b[1;32m      4\u001b[0m \u001b[0;34m\u001b[0m\u001b[0m\n\u001b[0;32m----> 5\u001b[0;31m \u001b[0mdoFeaturize\u001b[0m \u001b[0;34m=\u001b[0m \u001b[0mjarvis\u001b[0m\u001b[0;34m.\u001b[0m\u001b[0mAction\u001b[0m\u001b[0;34m(\u001b[0m\u001b[0mfeaturize\u001b[0m\u001b[0;34m,\u001b[0m \u001b[0;34m[\u001b[0m\u001b[0mtitanic_data\u001b[0m\u001b[0;34m]\u001b[0m\u001b[0;34m)\u001b[0m\u001b[0;34m\u001b[0m\u001b[0m\n\u001b[0m\u001b[1;32m      6\u001b[0m \u001b[0mft_titanic_data\u001b[0m \u001b[0;34m=\u001b[0m \u001b[0mjarvis\u001b[0m\u001b[0;34m.\u001b[0m\u001b[0mArtifact\u001b[0m\u001b[0;34m(\u001b[0m\u001b[0;34m'ft_titanic.pkl'\u001b[0m\u001b[0;34m,\u001b[0m \u001b[0mdoFeaturize\u001b[0m\u001b[0;34m)\u001b[0m\u001b[0;34m\u001b[0m\u001b[0m\n",
      "\u001b[0;31mAttributeError\u001b[0m: module 'jarvis' has no attribute 'Action'"
     ]
    }
   ],
   "source": [
    "@jarvis.func\n",
    "def featurize(df):\n",
    "    return pd.get_dummies(df)\n",
    "\n",
    "doFeaturize = ex.action(featurize, [titanic_data])\n",
    "ft_titanic_data = ex.artifact('ft_titanic.pkl', doFeaturize)"
   ]
  },
  {
   "cell_type": "code",
   "execution_count": 6,
   "metadata": {},
   "outputs": [
    {
     "ename": "NameError",
     "evalue": "name 'ft_titanic_data' is not defined",
     "output_type": "error",
     "traceback": [
      "\u001b[0;31m---------------------------------------------------------------------------\u001b[0m",
      "\u001b[0;31mNameError\u001b[0m                                 Traceback (most recent call last)",
      "\u001b[0;32m<ipython-input-6-57ac3076059b>\u001b[0m in \u001b[0;36m<module>\u001b[0;34m()\u001b[0m\n\u001b[0;32m----> 1\u001b[0;31m \u001b[0mft_titanic_data\u001b[0m\u001b[0;34m.\u001b[0m\u001b[0mpeek\u001b[0m\u001b[0;34m(\u001b[0m\u001b[0;32mlambda\u001b[0m \u001b[0mx\u001b[0m\u001b[0;34m:\u001b[0m \u001b[0mx\u001b[0m\u001b[0;34m.\u001b[0m\u001b[0mhead\u001b[0m\u001b[0;34m(\u001b[0m\u001b[0;34m)\u001b[0m\u001b[0;34m)\u001b[0m\u001b[0;34m\u001b[0m\u001b[0m\n\u001b[0m",
      "\u001b[0;31mNameError\u001b[0m: name 'ft_titanic_data' is not defined"
     ]
    }
   ],
   "source": [
    "ft_titanic_data.peek(lambda x: x.head())"
   ]
  },
  {
   "cell_type": "markdown",
   "metadata": {},
   "source": [
    "# Make the training matrices"
   ]
  },
  {
   "cell_type": "code",
   "execution_count": null,
   "metadata": {
    "collapsed": true
   },
   "outputs": [],
   "source": [
    "@jarvis.func\n",
    "def separateLabels(df):\n",
    "    data = df.dropna()\n",
    "    Y = data['survived'].values\n",
    "    X = data.drop(['survived'], axis=1).values.astype('float')\n",
    "    return X, Y\n",
    "\n",
    "doSepLabels = ex.action(separateLabels, [ft_titanic_data])\n",
    "X_ft_titanic_data = ex.artifact('x_ft_titanic.pkl', doSepLabels)\n",
    "Y_ft_titanic_data = ex.artifact('y_ft_titanic.pkl', doSepLabels)"
   ]
  },
  {
   "cell_type": "markdown",
   "metadata": {},
   "source": [
    "# Train Test Split"
   ]
  },
  {
   "cell_type": "code",
   "execution_count": null,
   "metadata": {
    "collapsed": true
   },
   "outputs": [],
   "source": [
    "@jarvis.func\n",
    "def trainTestSplit(X, Y, test_size, random_state):\n",
    "    from sklearn.model_selection import train_test_split\n",
    "    (X_tr, X_te, Y_tr, Y_te) = train_test_split(X, Y, test_size = test_size, random_state=random_state)\n",
    "    return (X_tr, X_te, Y_tr, Y_te)\n",
    "\n",
    "doTrTeSplit = ex.action(trainTestSplit, [X_ft_titanic_data, Y_ft_titanic_data, ex.literal(0.1), ex.literal(42)])\n",
    "X_tr = ex.artifact('tr_x_ft_titanic.pkl', doTrTeSplit)\n",
    "X_te = ex.artifact('te_x_ft_titanic.pkl', doTrTeSplit)\n",
    "Y_tr = ex.artifact('tr_y_ft_titanic.pkl', doTrTeSplit)\n",
    "Y_te = ex.artifact('te_y_ft_titanic.pkl', doTrTeSplit)"
   ]
  },
  {
   "cell_type": "markdown",
   "metadata": {},
   "source": [
    "# Model Development\n",
    "\n",
    "First cut at model development"
   ]
  },
  {
   "cell_type": "code",
   "execution_count": null,
   "metadata": {
    "collapsed": true
   },
   "outputs": [],
   "source": [
    "@jarvis.func\n",
    "def trainModel(X_tr, Y_tr, n_estimators, min_samples_split):\n",
    "    from sklearn.ensemble import RandomForestClassifier\n",
    "    model = RandomForestClassifier(n_estimators=n_estimators, min_samples_split=min_samples_split)\n",
    "    model.fit(X_tr, Y_tr)\n",
    "    return model\n",
    "\n",
    "doTrainModel = ex.action(trainModel, [X_tr, Y_tr, ex.literal(10), ex.literal(2)])\n",
    "model = ex.artifact('model.pkl', doTrainModel)"
   ]
  },
  {
   "cell_type": "code",
   "execution_count": null,
   "metadata": {
    "collapsed": true
   },
   "outputs": [],
   "source": [
    "@jarvis.func\n",
    "def scoreModel(model, X_tr, X_te, Y_tr, Y_te):\n",
    "    tr_acc = \"Train Accuracy: {}\".format(model.score(X_tr, Y_tr))\n",
    "    te_acc = \"Test Accuracy: {}\".format(model.score(X_te, Y_te))\n",
    "    return (tr_acc + '\\n' + te_acc, )\n",
    "\n",
    "doScoreModel = ex.action(scoreModel, [model, X_tr, X_te, Y_tr, Y_te])\n",
    "output = ex.artifact('output.txt', doScoreModel)"
   ]
  },
  {
   "cell_type": "code",
   "execution_count": null,
   "metadata": {
    "collapsed": true
   },
   "outputs": [],
   "source": [
    "output.peek(lambda x: print(''.join(x)))"
   ]
  },
  {
   "cell_type": "markdown",
   "metadata": {},
   "source": [
    "**Error!!!** \n",
    "\n",
    "The accuracy is too high!  We must have a feature that contains the label"
   ]
  },
  {
   "cell_type": "code",
   "execution_count": null,
   "metadata": {
    "collapsed": true
   },
   "outputs": [],
   "source": [
    "ft_titanic_data.peek(lambda x: x.dropna().columns)"
   ]
  },
  {
   "cell_type": "markdown",
   "metadata": {},
   "source": [
    "Notice the **alive_no** and **alive_yes** columns appear to have same data as survived.  Need to drop these columns"
   ]
  },
  {
   "cell_type": "markdown",
   "metadata": {},
   "source": [
    "# Re-make the training matrices"
   ]
  },
  {
   "cell_type": "code",
   "execution_count": null,
   "metadata": {
    "collapsed": true
   },
   "outputs": [],
   "source": [
    "@jarvis.func\n",
    "def separateLabels(df):\n",
    "    data = df.dropna()\n",
    "    Y = data['survived'].values\n",
    "    X = data.drop(['survived', 'alive_no', 'alive_yes'], axis=1).values.astype('float')\n",
    "    return X, Y\n",
    "\n",
    "doSepLabels = ex.action(separateLabels, [ft_titanic_data])\n",
    "X_ft_titanic_data = ex.artifact('x_ft_titanic.pkl', doSepLabels)\n",
    "Y_ft_titanic_data = ex.artifact('y_ft_titanic.pkl', doSepLabels)"
   ]
  },
  {
   "cell_type": "markdown",
   "metadata": {},
   "source": [
    "# Train Test Split (Again)"
   ]
  },
  {
   "cell_type": "code",
   "execution_count": null,
   "metadata": {
    "collapsed": true
   },
   "outputs": [],
   "source": [
    "doTrTeSplit = ex.action(trainTestSplit, [X_ft_titanic_data, Y_ft_titanic_data, ex.literal(0.1), ex.literal(42)])\n",
    "X_tr = ex.artifact('tr_x_ft_titanic.pkl', doTrTeSplit)\n",
    "X_te = ex.artifact('te_x_ft_titanic.pkl', doTrTeSplit)\n",
    "Y_tr = ex.artifact('tr_y_ft_titanic.pkl', doTrTeSplit)\n",
    "Y_te = ex.artifact('te_y_ft_titanic.pkl', doTrTeSplit)"
   ]
  },
  {
   "cell_type": "markdown",
   "metadata": {},
   "source": [
    "# Model Development (Again)\n",
    "\n",
    "First cut at model development"
   ]
  },
  {
   "cell_type": "code",
   "execution_count": null,
   "metadata": {
    "collapsed": true
   },
   "outputs": [],
   "source": [
    "doTrainModel = ex.action(trainModel, [X_tr, Y_tr, ex.literal(10), ex.literal(2)])\n",
    "model = ex.artifact('model.pkl', doTrainModel)"
   ]
  },
  {
   "cell_type": "code",
   "execution_count": null,
   "metadata": {
    "collapsed": true
   },
   "outputs": [],
   "source": [
    "doScoreModel = ex.action(scoreModel, [model, X_tr, X_te, Y_tr, Y_te])\n",
    "output = ex.artifact('output.txt', doScoreModel)"
   ]
  },
  {
   "cell_type": "code",
   "execution_count": null,
   "metadata": {
    "collapsed": true
   },
   "outputs": [],
   "source": [
    "output.peek(lambda x: print(''.join(x)))"
   ]
  },
  {
   "cell_type": "code",
   "execution_count": null,
   "metadata": {
    "collapsed": true
   },
   "outputs": [],
   "source": [
    "output.pull()"
   ]
  },
  {
   "cell_type": "markdown",
   "metadata": {},
   "source": [
    "# Model selection through search"
   ]
  },
  {
   "cell_type": "markdown",
   "metadata": {},
   "source": [
    "**To be continued after Aggregation is implemented ...**"
   ]
  }
 ],
 "metadata": {
  "anaconda-cloud": {},
  "kernelspec": {
   "display_name": "Python (jarvisEnv)",
   "language": "python",
   "name": "jarvisenv"
  },
  "language_info": {
   "codemirror_mode": {
    "name": "ipython",
    "version": 3
   },
   "file_extension": ".py",
   "mimetype": "text/x-python",
   "name": "python",
   "nbconvert_exporter": "python",
   "pygments_lexer": "ipython3",
   "version": "3.6.4"
  }
 },
 "nbformat": 4,
 "nbformat_minor": 2
}
